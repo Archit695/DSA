{
 "cells": [
  {
   "cell_type": "markdown",
   "id": "2ee6cc05",
   "metadata": {},
   "source": [
    "ASS1\n",
    "\n",
    "Q1---------"
   ]
  },
  {
   "cell_type": "code",
   "execution_count": 235,
   "id": "92b50a48",
   "metadata": {},
   "outputs": [
    {
     "name": "stdout",
     "output_type": "stream",
     "text": [
      "(1, 2)\n"
     ]
    }
   ],
   "source": [
    "nums = [2,7,11,15];target = 18\n",
    "def targetSum(nums,target):\n",
    "    for i in range(len(nums)):\n",
    "        for j in range(i,len(nums)):\n",
    "            if nums[i] + nums[j] == target:\n",
    "                return i,j\n",
    "            \n",
    "print(targetSum(nums,target))"
   ]
  },
  {
   "cell_type": "markdown",
   "id": "c417246f",
   "metadata": {},
   "source": [
    "Q2-------"
   ]
  },
  {
   "cell_type": "code",
   "execution_count": 236,
   "id": "796dbc58",
   "metadata": {},
   "outputs": [
    {
     "name": "stdout",
     "output_type": "stream",
     "text": [
      "2 [2, 7, 15, 15]\n"
     ]
    }
   ],
   "source": [
    "nums = [2,7,11,15];val = 11\n",
    "\n",
    "def remove(nums,target):\n",
    "    i,k = 0,len(nums)-1\n",
    "    while(i<k):\n",
    "        if nums[i]==target:\n",
    "            nums[i] = nums[k]\n",
    "            k-=1\n",
    "        i+=1\n",
    "    return k\n",
    " \n",
    "print(remove(nums,val),nums)    "
   ]
  },
  {
   "cell_type": "markdown",
   "id": "dce1c761",
   "metadata": {},
   "source": [
    "Q3-------"
   ]
  },
  {
   "cell_type": "code",
   "execution_count": 237,
   "id": "c1491bd7",
   "metadata": {},
   "outputs": [
    {
     "data": {
      "text/plain": [
       "8"
      ]
     },
     "execution_count": 237,
     "metadata": {},
     "output_type": "execute_result"
    }
   ],
   "source": [
    "nums = [2,7,11,15,17,43,56,78];val = 79\n",
    "def searchInsert(nums,val):\n",
    "    start = 0\n",
    "    end = len(nums) - 1\n",
    "    while(end>=start):\n",
    "        mid = int((start + end)/2)\n",
    "        if val>nums[mid]:\n",
    "            start = mid+1\n",
    "        elif val<nums[mid]:\n",
    "            end = mid-1\n",
    "        else:\n",
    "            return mid\n",
    "    return start\n",
    "\n",
    "searchInsert(nums,val)"
   ]
  },
  {
   "cell_type": "markdown",
   "id": "f3c1b6c9",
   "metadata": {},
   "source": [
    "Q4------"
   ]
  },
  {
   "cell_type": "code",
   "execution_count": 238,
   "id": "8814bc51",
   "metadata": {
    "scrolled": true
   },
   "outputs": [
    {
     "name": "stdout",
     "output_type": "stream",
     "text": [
      "[1, 2, 3, 4, 5, 8, 0, 0]\n"
     ]
    }
   ],
   "source": [
    "nums = [1,2,3,4,5,7,9,9]\n",
    "\n",
    "def addOne(nums):\n",
    "    idx = len(nums)-1\n",
    "    carry = -1\n",
    "    while(carry!=0):\n",
    "        carry = 1 if nums[idx]==9 else 0\n",
    "        nums[idx] = (nums[idx] + 1)%10 \n",
    "        idx-=1\n",
    "    return nums\n",
    "\n",
    "print(addOne(nums))"
   ]
  },
  {
   "cell_type": "markdown",
   "id": "e9cb95bf",
   "metadata": {},
   "source": [
    "Q5-------"
   ]
  },
  {
   "cell_type": "code",
   "execution_count": 239,
   "id": "4058abd2",
   "metadata": {},
   "outputs": [
    {
     "name": "stdout",
     "output_type": "stream",
     "text": [
      "[0, 0, 1, 2, 3, 5, 7, 67, 70, 0, 0, 0, 0, 0, 0] [0, 1, 3, 68, 69, 87]\n"
     ]
    },
    {
     "data": {
      "text/plain": [
       "[0, 0, 0, 1, 1, 2, 3, 3, 5, 7, 67, 68, 69, 70, 87]"
      ]
     },
     "execution_count": 239,
     "metadata": {},
     "output_type": "execute_result"
    }
   ],
   "source": [
    "a1 = [0,0,1,2,3,5,7,67,70]\n",
    "a2 = [0,1,3,68,69,87]\n",
    "a1 = a1 + [0]*len(a2)\n",
    "print(a1,a2)\n",
    "\n",
    "\n",
    "def mergeSorted(a1,a2):\n",
    "    j = len(a2)-1\n",
    "    i  = len(a1)-len(a2)-1\n",
    "    ij = len(a1)-1\n",
    "    while(ij>0):\n",
    "        if(a1[i]>=a2[j]):\n",
    "            a1[ij] = a1[i]\n",
    "            ij-=1;i-=1;\n",
    "        else :\n",
    "            a1[ij] = a2[j]\n",
    "            ij-=1 ; j-=1;\n",
    "    \n",
    "    return a1\n",
    "\n",
    "mergeSorted(a1,a2)"
   ]
  },
  {
   "cell_type": "markdown",
   "id": "efc5902c",
   "metadata": {},
   "source": [
    "Q6----"
   ]
  },
  {
   "cell_type": "code",
   "execution_count": 240,
   "id": "c1d5773c",
   "metadata": {},
   "outputs": [
    {
     "name": "stdout",
     "output_type": "stream",
     "text": [
      "True\n"
     ]
    }
   ],
   "source": [
    "arr = [0,1,2,6,8,3,5,4,54,3,5,7,89]\n",
    "def chkDuplicate(arr):\n",
    "    return True if len(arr)!=len(set(arr)) else False\n",
    "\n",
    "print(chkDuplicate(arr))"
   ]
  },
  {
   "cell_type": "markdown",
   "id": "16351bc0",
   "metadata": {},
   "source": [
    "Q7-----"
   ]
  },
  {
   "cell_type": "code",
   "execution_count": 241,
   "id": "bde42b9d",
   "metadata": {},
   "outputs": [
    {
     "name": "stdout",
     "output_type": "stream",
     "text": [
      "[1, 3, 4, 5, 3, 3, 12, 0, 0, 0, 0]\n"
     ]
    }
   ],
   "source": [
    "nums = [0,1,0,3,4,5,3,3,12,0,0]\n",
    "def moveZero(nums):\n",
    "    i,j = 0,0\n",
    "    while (j<len(nums)) :\n",
    "        nums[i] = nums[j]\n",
    "        if nums[i]==0:\n",
    "            j+=1\n",
    "        else:\n",
    "            i+=1;j+=1\n",
    "    for k in range(i,len(nums)):\n",
    "        nums[k] = 0\n",
    "    return nums\n",
    "    \n",
    "print(moveZero(nums))\n",
    "        "
   ]
  },
  {
   "cell_type": "markdown",
   "id": "dcf2cb24",
   "metadata": {},
   "source": [
    "Q8-------"
   ]
  },
  {
   "cell_type": "code",
   "execution_count": 242,
   "id": "dd32413a",
   "metadata": {},
   "outputs": [
    {
     "name": "stdout",
     "output_type": "stream",
     "text": [
      "6\n"
     ]
    }
   ],
   "source": [
    "nums = [1,2,3,8,7,0,5,4]\n",
    "\n",
    "def missingInt(nums):\n",
    "     return (len(nums)*(len(nums)+1)>>1)-sum(nums)\n",
    "print(missingInt(nums))"
   ]
  },
  {
   "cell_type": "markdown",
   "id": "70c69d3c",
   "metadata": {},
   "source": [
    "ASS3\n",
    "Q1--------"
   ]
  },
  {
   "cell_type": "code",
   "execution_count": null,
   "id": "a829acc0",
   "metadata": {},
   "outputs": [],
   "source": []
  }
 ],
 "metadata": {
  "kernelspec": {
   "display_name": "Python 3 (ipykernel)",
   "language": "python",
   "name": "python3"
  },
  "language_info": {
   "codemirror_mode": {
    "name": "ipython",
    "version": 3
   },
   "file_extension": ".py",
   "mimetype": "text/x-python",
   "name": "python",
   "nbconvert_exporter": "python",
   "pygments_lexer": "ipython3",
   "version": "3.9.12"
  }
 },
 "nbformat": 4,
 "nbformat_minor": 5
}
