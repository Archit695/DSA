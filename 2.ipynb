{
 "cells": [
  {
   "cell_type": "markdown",
   "id": "b33bd1e8",
   "metadata": {},
   "source": [
    "# 1"
   ]
  },
  {
   "cell_type": "code",
   "execution_count": 1,
   "id": "5a6d3cb3",
   "metadata": {},
   "outputs": [
    {
     "name": "stdout",
     "output_type": "stream",
     "text": [
      "4\n"
     ]
    }
   ],
   "source": [
    "def array_pair_sum(nums):\n",
    "    nums.sort()  # Sort the array in ascending order\n",
    "    max_sum = 0\n",
    "    for i in range(0, len(nums), 2):\n",
    "        max_sum += nums[i]  # Add the minimum value in each pair\n",
    "    return max_sum\n",
    "\n",
    "# Test the function\n",
    "nums = [1, 4, 3, 2]\n",
    "print(array_pair_sum(nums)) "
   ]
  },
  {
   "cell_type": "markdown",
   "id": "2677f6ad",
   "metadata": {},
   "source": [
    "# 2\n"
   ]
  },
  {
   "cell_type": "code",
   "execution_count": 2,
   "id": "68f4156c",
   "metadata": {},
   "outputs": [
    {
     "name": "stdout",
     "output_type": "stream",
     "text": [
      "3\n"
     ]
    }
   ],
   "source": [
    "def max_candies(candyType):\n",
    "    max_candy_count = len(set(candyType))  # Get the count of unique candy types\n",
    "    max_limit = len(candyType) // 2  # Maximum number of candies Alice can eat\n",
    "    return min(max_candy_count, max_limit)  # Return the minimum of the two values\n",
    "\n",
    "# Test the function\n",
    "candyType = [1, 1, 2, 2, 3, 3]\n",
    "print(max_candies(candyType))"
   ]
  },
  {
   "cell_type": "markdown",
   "id": "44c70753",
   "metadata": {},
   "source": [
    "3"
   ]
  },
  {
   "cell_type": "code",
   "execution_count": 4,
   "id": "1569e117",
   "metadata": {},
   "outputs": [
    {
     "name": "stdout",
     "output_type": "stream",
     "text": [
      "5\n"
     ]
    }
   ],
   "source": [
    "from collections import Counter\n",
    "def findLHS(nums):\n",
    "    counter = Counter(nums)  # Count the frequency of each number in the array\n",
    "    longest_subsequence = 0\n",
    "    \n",
    "    for num in counter:\n",
    "        if num + 1 in counter:\n",
    "            current_length = counter[num] + counter[num + 1]\n",
    "            longest_subsequence = max(longest_subsequence, current_length)\n",
    "            #print(longest_subsequence, current_length)\n",
    "    \n",
    "    return longest_subsequence\n",
    "\n",
    "# Test the function\n",
    "nums = [1, 3, 2, 2, 5, 2, 3, 7]\n",
    "print(findLHS(nums)) "
   ]
  },
  {
   "cell_type": "markdown",
   "id": "be7e8319",
   "metadata": {},
   "source": [
    "# 4"
   ]
  },
  {
   "cell_type": "code",
   "execution_count": 6,
   "id": "b6c8e1ec",
   "metadata": {},
   "outputs": [
    {
     "name": "stdout",
     "output_type": "stream",
     "text": [
      "True\n"
     ]
    }
   ],
   "source": [
    "def canPlaceFlowers(flowerbed, n):\n",
    "    count = 0\n",
    "    i = 0\n",
    "    while i < len(flowerbed):\n",
    "        #print(flowerbed[i],flowerbed[i-1],len(flowerbed)-1,flowerbed[i+1])\n",
    "        if flowerbed[i] == 0 and (i == 0 or flowerbed[i-1] == 0) and (i == len(flowerbed)-1 or flowerbed[i+1] == 0):\n",
    "            \n",
    "            flowerbed[i] = 1\n",
    "            count += 1\n",
    "            #print(count)\n",
    "        i += 1\n",
    "    return count >= n\n",
    "\n",
    "# Test the function\n",
    "flowerbed = [1, 0, 0, 0, 1]\n",
    "n = 1\n",
    "print(canPlaceFlowers(flowerbed, n))"
   ]
  },
  {
   "cell_type": "markdown",
   "id": "17810dfb",
   "metadata": {},
   "source": [
    "# 5"
   ]
  },
  {
   "cell_type": "code",
   "execution_count": 7,
   "id": "8d9f25e8",
   "metadata": {},
   "outputs": [
    {
     "name": "stdout",
     "output_type": "stream",
     "text": [
      "6\n"
     ]
    }
   ],
   "source": [
    "def maximumProduct(nums):\n",
    "    nums.sort()  # Sort the array in ascending order\n",
    "    n = len(nums)\n",
    "    # The maximum product can be either the product of the three largest numbers\n",
    "    # or the product of the two smallest numbers (if there are negative numbers) and the largest number\n",
    "    return max(nums[n-1] * nums[n-2] * nums[n-3], nums[0] * nums[1] * nums[n-1])\n",
    "\n",
    "# Test the function\n",
    "nums = [1, 2, 3]\n",
    "print(maximumProduct(nums))"
   ]
  },
  {
   "cell_type": "markdown",
   "id": "aa16f363",
   "metadata": {},
   "source": [
    "6"
   ]
  },
  {
   "cell_type": "code",
   "execution_count": 8,
   "id": "9b5b0dc8",
   "metadata": {},
   "outputs": [
    {
     "name": "stdout",
     "output_type": "stream",
     "text": [
      "4\n"
     ]
    }
   ],
   "source": [
    "def search(nums, target):\n",
    "    left = 0\n",
    "    right = len(nums) - 1\n",
    "\n",
    "    while left <= right:\n",
    "        mid = left + (right - left) // 2\n",
    "\n",
    "        if nums[mid] == target:\n",
    "            return mid\n",
    "        elif nums[mid] < target:\n",
    "            left = mid + 1\n",
    "        else:\n",
    "            right = mid - 1\n",
    "\n",
    "    return -1\n",
    "\n",
    "# Test the function\n",
    "nums = [-1, 0, 3, 5, 9, 12]\n",
    "target = 9\n",
    "print(search(nums, target))"
   ]
  },
  {
   "cell_type": "markdown",
   "id": "09ab2a9a",
   "metadata": {},
   "source": [
    "7"
   ]
  },
  {
   "cell_type": "code",
   "execution_count": 9,
   "id": "cf80bdcd",
   "metadata": {},
   "outputs": [
    {
     "name": "stdout",
     "output_type": "stream",
     "text": [
      "True\n"
     ]
    }
   ],
   "source": [
    "def isMonotonic(nums):\n",
    "    increasing = decreasing = True\n",
    "\n",
    "    for i in range(1, len(nums)):\n",
    "        if nums[i] < nums[i - 1]:\n",
    "            increasing = False\n",
    "        if nums[i] > nums[i - 1]:\n",
    "            decreasing = False\n",
    "\n",
    "    return increasing or decreasing\n",
    "\n",
    "# Test the function\n",
    "nums = [1, 2, 2, 3]\n",
    "print(isMonotonic(nums))"
   ]
  },
  {
   "cell_type": "markdown",
   "id": "79590ce4",
   "metadata": {},
   "source": [
    "8"
   ]
  },
  {
   "cell_type": "code",
   "execution_count": 10,
   "id": "5d246cb4",
   "metadata": {},
   "outputs": [
    {
     "name": "stdout",
     "output_type": "stream",
     "text": [
      "0\n"
     ]
    }
   ],
   "source": [
    "def minDifference(nums, k):\n",
    "    if len(nums) <= 4:\n",
    "        return 0\n",
    "\n",
    "    nums.sort()\n",
    "\n",
    "    min_score = float('inf')\n",
    "    for i in range(4):\n",
    "        min_score = min(min_score, nums[-4+i] - nums[i])\n",
    "\n",
    "    return min_score\n",
    "\n",
    "# Test the function\n",
    "nums = [1]\n",
    "k = 0\n",
    "print(minDifference(nums, k))"
   ]
  },
  {
   "cell_type": "code",
   "execution_count": null,
   "id": "615f707b",
   "metadata": {},
   "outputs": [],
   "source": []
  }
 ],
 "metadata": {
  "kernelspec": {
   "display_name": "Python 3 (ipykernel)",
   "language": "python",
   "name": "python3"
  },
  "language_info": {
   "codemirror_mode": {
    "name": "ipython",
    "version": 3
   },
   "file_extension": ".py",
   "mimetype": "text/x-python",
   "name": "python",
   "nbconvert_exporter": "python",
   "pygments_lexer": "ipython3",
   "version": "3.9.12"
  }
 },
 "nbformat": 4,
 "nbformat_minor": 5
}
